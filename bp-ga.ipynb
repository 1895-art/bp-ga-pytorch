{
 "nbformat": 4,
 "nbformat_minor": 2,
 "metadata": {
  "language_info": {
   "name": "python",
   "codemirror_mode": {
    "name": "ipython",
    "version": 3
   }
  },
  "orig_nbformat": 2,
  "file_extension": ".py",
  "mimetype": "text/x-python",
  "name": "python",
  "npconvert_exporter": "python",
  "pygments_lexer": "ipython3",
  "version": 3,
  "kernelspec": {
   "name": "0b69742d-c976-4b7d-b82c-e7a213bfcb73",
   "display_name": "'Python Interactive'"
  }
 },
 "cells": [
  {
   "cell_type": "code",
   "execution_count": null,
   "metadata": {},
   "outputs": [],
   "source": [
    "import numpy as np\n",
    "import torch\n",
    "import matplotlib.pyplot as plt\n",
    "import copy"
   ]
  },
  {
   "cell_type": "code",
   "execution_count": null,
   "metadata": {},
   "outputs": [],
   "source": [
    "from utils.ga import GenomeBinary, GenomeFloat, GA\n",
    "from utils.bp import train_model, reset_model"
   ]
  },
  {
   "cell_type": "markdown",
   "metadata": {},
   "source": [
    "# Generate Data"
   ],
   "execution_count": null,
   "outputs": []
  },
  {
   "cell_type": "code",
   "execution_count": null,
   "metadata": {},
   "outputs": [],
   "source": [
    "X_BOUND = [-10, 10]\n",
    "def F(x):\n",
    "    # return x + 10*np.sin(5*x) + 7*np.cos(4*x)\n",
    "    return 1 / (1 + np.exp(x))"
   ]
  },
  {
   "cell_type": "code",
   "execution_count": null,
   "metadata": {},
   "outputs": [],
   "source": [
    "data_size = 1000\n",
    "noise = 0.1\n",
    "x_origin = (X_BOUND[0] + (X_BOUND[1]-X_BOUND[0]) * np.random.rand(data_size))\n",
    "y_origin = F(x_origin) + noise * np.random.rand(data_size)"
   ]
  },
  {
   "cell_type": "markdown",
   "metadata": {},
   "source": [
    "# Build Model"
   ],
   "execution_count": null,
   "outputs": []
  },
  {
   "cell_type": "code",
   "execution_count": null,
   "metadata": {},
   "outputs": [],
   "source": [
    "device = 'cuda:0' if torch.cuda.is_available() else 'cpu'\n",
    "print('Working on {}'.format(device))\n",
    "x_tensor = torch.from_numpy(x_origin).unsqueeze_(-1).float().to(device)\n",
    "y_tensor = torch.from_numpy(y_origin).unsqueeze_(-1).float().to(device)"
   ]
  },
  {
   "cell_type": "code",
   "execution_count": null,
   "metadata": {},
   "outputs": [],
   "source": [
    "model = torch.nn.Sequential(\n",
    "    torch.nn.Linear(1, 10),\n",
    "    torch.nn.ReLU(),\n",
    "    torch.nn.Linear(10, 1),\n",
    ").to(device)"
   ]
  },
  {
   "cell_type": "code",
   "execution_count": null,
   "metadata": {},
   "outputs": [],
   "source": [
    "def params_to_chrom(params):\n",
    "    chrom = np.empty(0)\n",
    "    for key in params:\n",
    "        chrom = np.append(chrom, params[key].cpu().numpy().flatten(), axis=-1)\n",
    "    return chrom\n",
    "\n",
    "def chrom_to_params(chrom, params_template):\n",
    "    params = copy.deepcopy(params_template)\n",
    "    idx = 0\n",
    "    for key in params:\n",
    "        param_length = np.prod(params_template[key].shape)\n",
    "        param = torch.from_numpy(chrom[idx: idx+param_length].reshape(params_template[key].shape)).to(device)\n",
    "        params[key] = param\n",
    "        idx += param_length\n",
    "    return params"
   ]
  },
  {
   "cell_type": "code",
   "execution_count": null,
   "metadata": {},
   "outputs": [],
   "source": [
    "params_template = copy.deepcopy(model.state_dict())\n",
    "chrom_len = 0\n",
    "bound_l = np.empty(0)\n",
    "bound_h = np.empty(0)\n",
    "for key in params_template:\n",
    "    param_length = np.prod(params_template[key].shape)\n",
    "    if 'weight' in key:\n",
    "        # kaiming uniform\n",
    "        weight = params_template[key]\n",
    "        fan_in, _ = torch.nn.init._calculate_fan_in_and_fan_out(weight)\n",
    "        gain = torch.nn.init.calculate_gain('relu')\n",
    "        _bound = gain * np.sqrt(3 / fan_in)\n",
    "    elif 'bias' in key:\n",
    "        fan_in, _ = torch.nn.init._calculate_fan_in_and_fan_out(weight)\n",
    "        _bound = 1 / np.sqrt(fan_in)\n",
    "    else:\n",
    "        raise Exception('Unknow parameter')\n",
    "    bound_l = np.append(bound_l, -np.ones(param_length)*_bound)\n",
    "    bound_h = np.append(bound_h, np.ones(param_length)*_bound)\n",
    "    chrom_len += param_length\n",
    "bound = np.array([bound_l, bound_h])"
   ]
  },
  {
   "cell_type": "code",
   "execution_count": null,
   "metadata": {},
   "outputs": [],
   "source": [
    "def calculate_fitness(chrom):\n",
    "    params = chrom_to_params(chrom, params_template)\n",
    "    model.load_state_dict(params)\n",
    "    loss = train_model(model, x_tensor, y_tensor, num_epoches=100, batch_size=8192, learning_rate=1e-3, log=False)\n",
    "    fitness = 1./loss\n",
    "    return fitness"
   ]
  },
  {
   "cell_type": "code",
   "execution_count": null,
   "metadata": {},
   "outputs": [],
   "source": [
    "pop_size = 100\n",
    "num_gen = 1000\n",
    "ga = GA(pop_size, chrom_len, bound, calculate_fitness, GenomeClass=GenomeFloat, cross_prob=0.8, mutate_prob=0.3)\n",
    "ga.genetic(num_gen, log=True)"
   ]
  },
  {
   "cell_type": "code",
   "execution_count": null,
   "metadata": {},
   "outputs": [],
   "source": [
    "# best_ga_params = chrom_to_params(ga.genome.view_best(ga.bound), params_template)\n",
    "best_ga_params = chrom_to_params(ga.genome.view(0, ga.bound), params_template)\n",
    "model.load_state_dict(best_ga_params)\n",
    "train_model(model, x_tensor, y_tensor, num_epoches=100, batch_size=8192, learning_rate=1e-3, log=True)\n",
    "\n",
    "x_axis = np.linspace(*X_BOUND, 200)\n",
    "plt.plot(x_axis, F(x_axis))\n",
    "plt.scatter(x_origin, np.squeeze(model(x_tensor).cpu().detach().numpy(), -1), color='r')\n",
    "plt.show()"
   ]
  },
  {
   "cell_type": "code",
   "execution_count": null,
   "metadata": {},
   "outputs": [],
   "source": []
  }
 ]
}